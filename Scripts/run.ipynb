{
 "cells": [
  {
   "cell_type": "code",
   "execution_count": null,
   "id": "6d292ad0",
   "metadata": {},
   "outputs": [],
   "source": [
    "#!/usr/bin/env python3\n",
    "\"\"\"\n",
    "Lee archivos de descripción de frutas (.txt), extrae nombre, peso, descripción e imagen,\n",
    "y envía esta información como JSON al servidor Django en /fruits/.\n",
    "\"\"\"\n",
    "\n",
    "import os\n",
    "import requests\n",
    "\n",
    "fruits = {}\n",
    "keys = [\"name\", \"weight\", \"description\", \"image_name\"]\n",
    "path = \"./supplier-data/descriptions/\"\n",
    "\n",
    "for file in os.listdir(path):\n",
    "    with open(path + file) as f:\n",
    "        index = 0\n",
    "        for line in f:\n",
    "            line = line.strip()\n",
    "            if \"lbs\" in line:\n",
    "                # Guardar peso como entero\n",
    "                fruits[\"weight\"] = int(line.split()[0])\n",
    "                index += 1\n",
    "            else:\n",
    "                try:\n",
    "                    fruits[keys[index]] = line\n",
    "                    index += 1\n",
    "                except:\n",
    "                    fruits[keys[2]] = line\n",
    "\n",
    "        # Asignar imagen correspondiente\n",
    "        fruits[\"image_name\"] = file.split(\".\")[0] + \".jpeg\"\n",
    "\n",
    "        # Enviar datos al servidor\n",
    "        response = requests.post(\"http://<External_IP>/fruits/\", json=fruits)\n",
    "        fruits.clear()\n"
   ]
  }
 ],
 "metadata": {
  "language_info": {
   "name": "python"
  }
 },
 "nbformat": 4,
 "nbformat_minor": 5
}
