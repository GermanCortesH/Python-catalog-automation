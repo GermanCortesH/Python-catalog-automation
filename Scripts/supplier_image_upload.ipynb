{
 "cells": [
  {
   "cell_type": "code",
   "execution_count": null,
   "id": "828404a7",
   "metadata": {},
   "outputs": [],
   "source": [
    "#!/usr/bin/env python3\n",
    "\"\"\"\n",
    "Sube todas las imágenes JPEG al servidor Django usando requests.\n",
    "Endpoint: /upload/\n",
    "\"\"\"\n",
    "\n",
    "import requests\n",
    "import os\n",
    "\n",
    "url = \"http://localhost/upload/\"\n",
    "\n",
    "for filename in os.listdir(\"./supplier-data/images\"):\n",
    "    if filename.endswith(\".jpeg\"):\n",
    "        with open('./supplier-data/images/' + filename, 'rb') as opened:\n",
    "            r = requests.post(url, files={'file': opened})\n"
   ]
  }
 ],
 "metadata": {
  "language_info": {
   "name": "python"
  }
 },
 "nbformat": 4,
 "nbformat_minor": 5
}
