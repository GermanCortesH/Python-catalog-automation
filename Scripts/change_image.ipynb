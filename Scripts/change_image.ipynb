{
 "cells": [
  {
   "cell_type": "code",
   "execution_count": null,
   "id": "fe93a720",
   "metadata": {},
   "outputs": [],
   "source": [
    "#!/usr/bin/env python3\n",
    "\"\"\"\n",
    "Script para convertir imágenes TIFF en JPEG redimensionadas a 600x400 píxeles.\n",
    "Ubicación de entrada/salida: ./supplier-data/images/\n",
    "\"\"\"\n",
    "\n",
    "from PIL import Image\n",
    "import os\n",
    "\n",
    "# Ruta de imágenes originales\n",
    "path = \"./supplier-data/images/\"\n",
    "\n",
    "for filename in os.listdir(path):\n",
    "    if filename.endswith(\".tiff\"):\n",
    "        name = filename.split(\".\")[0] + \".jpeg\"\n",
    "        # Convertir a RGB y redimensionar\n",
    "        im = Image.open(os.path.join(path, filename)).convert(\"RGB\")\n",
    "        im.resize((600, 400)).save(os.path.join(path, name), \"JPEG\")\n"
   ]
  }
 ],
 "metadata": {
  "language_info": {
   "name": "python"
  }
 },
 "nbformat": 4,
 "nbformat_minor": 5
}
