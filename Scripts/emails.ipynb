{
 "cells": [
  {
   "cell_type": "code",
   "execution_count": null,
   "id": "90116642",
   "metadata": {},
   "outputs": [],
   "source": [
    "#!/usr/bin/env python3\n",
    "\"\"\"\n",
    "Funciones para generar y enviar correos electrónicos, con y sin adjuntos.\n",
    "\"\"\"\n",
    "\n",
    "import email.message\n",
    "import mimetypes\n",
    "import os.path\n",
    "import smtplib\n",
    "\n",
    "def generate_email(sender, recipient, subject, body, attachment_path):\n",
    "    \"\"\"Crea un email con adjunto.\"\"\"\n",
    "    message = email.message.EmailMessage()\n",
    "    message[\"From\"] = sender\n",
    "    message[\"To\"] = recipient\n",
    "    message[\"Subject\"] = subject\n",
    "    message.set_content(body)\n",
    "\n",
    "    attachment_filename = os.path.basename(attachment_path)\n",
    "    mime_type, _ = mimetypes.guess_type(attachment_path)\n",
    "    mime_type, mime_subtype = mime_type.split('/', 1)\n",
    "\n",
    "    with open(attachment_path, 'rb') as ap:\n",
    "        message.add_attachment(\n",
    "            ap.read(),\n",
    "            maintype=mime_type,\n",
    "            subtype=mime_subtype,\n",
    "            filename=attachment_filename\n",
    "        )\n",
    "    return message\n",
    "\n",
    "def generate_error_email(sender, recipient, subject, body):\n",
    "    \"\"\"Crea un email sin adjunto.\"\"\"\n",
    "    message = email.message.EmailMessage()\n",
    "    message[\"From\"] = sender\n",
    "    message[\"To\"] = recipient\n",
    "    message[\"Subject\"] = subject\n",
    "    message.set_content(body)\n",
    "    return message\n",
    "\n",
    "def send_email(message):\n",
    "    \"\"\"Envía el mensaje al servidor SMTP configurado.\"\"\"\n",
    "    mail_server = smtplib.SMTP('localhost')\n",
    "    mail_server.send_message(message)\n",
    "    mail_server.quit()\n"
   ]
  }
 ],
 "metadata": {
  "language_info": {
   "name": "python"
  }
 },
 "nbformat": 4,
 "nbformat_minor": 5
}
