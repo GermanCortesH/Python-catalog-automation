{
 "cells": [
  {
   "cell_type": "code",
   "execution_count": null,
   "id": "77921e73",
   "metadata": {},
   "outputs": [],
   "source": [
    "#!/usr/bin/env python3\n",
    "\"\"\"\n",
    "Genera un reporte PDF usando ReportLab.\n",
    "\"\"\"\n",
    "\n",
    "from reportlab.platypus import SimpleDocTemplate, Paragraph, Spacer\n",
    "from reportlab.lib.styles import getSampleStyleSheet\n",
    "from reportlab.lib import colors\n",
    "\n",
    "def generate_report(attachment, title, paragraph):\n",
    "    styles = getSampleStyleSheet()\n",
    "    report = SimpleDocTemplate(attachment)\n",
    "    report_title = Paragraph(title, styles[\"h1\"])\n",
    "    report_info = Paragraph(paragraph, styles[\"BodyText\"])\n",
    "    empty_line = Spacer(1, 20)\n",
    "\n",
    "    report.build([report_title, empty_line, report_info])\n"
   ]
  }
 ],
 "metadata": {
  "language_info": {
   "name": "python"
  }
 },
 "nbformat": 4,
 "nbformat_minor": 5
}
