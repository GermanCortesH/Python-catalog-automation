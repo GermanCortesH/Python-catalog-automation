{
 "cells": [
  {
   "cell_type": "code",
   "execution_count": null,
   "id": "0dbbc679",
   "metadata": {},
   "outputs": [],
   "source": [
    "#!/usr/bin/env python3\n",
    "\"\"\"\n",
    "Genera un reporte PDF con el peso total de frutas y lo envía por correo electrónico.\n",
    "\"\"\"\n",
    "\n",
    "import os\n",
    "import datetime\n",
    "import reports\n",
    "import emails\n",
    "\n",
    "dt = datetime.date.today().strftime(\"%B %d, %Y\")\n",
    "date = \"Processed Update on \" + dt\n",
    "names = []\n",
    "weights = []\n",
    "path = \"./supplier-data/descriptions/\"\n",
    "\n",
    "# Leer descripciones\n",
    "for file in os.listdir(path):\n",
    "    with open(path + file) as f:\n",
    "        for line in f:\n",
    "            line = line.strip()\n",
    "            if len(line) <= 10 and len(line) > 0 and \"lb\" not in line:\n",
    "                names.append(\"name: \" + line)\n",
    "            if \"lbs\" in line:\n",
    "                weights.append(\"weight: \" + line)\n",
    "\n",
    "# Construir resumen HTML\n",
    "summary = \"\"\n",
    "for name, weight in zip(names, weights):\n",
    "    summary += name + '<br />' + weight + '<br /><br />'\n",
    "\n",
    "if __name__ == \"__main__\":\n",
    "    # Generar PDF\n",
    "    reports.generate_report(\"/tmp/processed.pdf\", date, summary)\n",
    "\n",
    "    # Enviar email\n",
    "    sender = \"automation@example.com\"\n",
    "    receiver = \"{}@example.com\".format(os.environ.get('USER'))\n",
    "    subject = \"Upload Completed - Online Fruit Store\"\n",
    "    body = \"All fruits are uploaded to our website successfully. A detailed list is attached to this email.\"\n",
    "\n",
    "    message = emails.generate_email(sender, receiver, subject, body, \"/tmp/processed.pdf\")\n",
    "    emails.send_email(message)\n"
   ]
  }
 ],
 "metadata": {
  "language_info": {
   "name": "python"
  }
 },
 "nbformat": 4,
 "nbformat_minor": 5
}
